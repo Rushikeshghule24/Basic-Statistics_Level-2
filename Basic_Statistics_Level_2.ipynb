{
  "nbformat": 4,
  "nbformat_minor": 0,
  "metadata": {
    "colab": {
      "name": "Basic Statistics_Level-2.ipynb",
      "provenance": [],
      "collapsed_sections": []
    },
    "kernelspec": {
      "name": "python3",
      "display_name": "Python 3"
    },
    "language_info": {
      "name": "python"
    }
  },
  "cells": [
    {
      "cell_type": "markdown",
      "metadata": {
        "id": "LXSVDmP1cwWp"
      },
      "source": [
        "# Question number 1"
      ]
    },
    {
      "cell_type": "markdown",
      "source": [
        "1.\tThe time required for servicing transmissions is normally distributed with  = 45 minutes and  = 8 minutes. The service manager plans to have work begin on the transmission of a customer’s car 10 minutes after the car is dropped off and the customer is told that the car will be ready within 1 hour from drop-off. What is the probability that the service manager cannot meet his commitment?"
      ],
      "metadata": {
        "id": "Wqn8d6JvOGhv"
      }
    },
    {
      "cell_type": "code",
      "metadata": {
        "id": "bf9fX3snY7g7"
      },
      "source": [
        "from scipy import stats"
      ],
      "execution_count": null,
      "outputs": []
    },
    {
      "cell_type": "code",
      "metadata": {
        "colab": {
          "base_uri": "https://localhost:8080/"
        },
        "id": "XD3Y2NUMY-vl",
        "outputId": "9b2a8d7a-2f4c-4b9d-eaca-c647d377066d"
      },
      "source": [
        "1-(stats.norm.cdf(50,loc=45,scale=8))"
      ],
      "execution_count": null,
      "outputs": [
        {
          "output_type": "execute_result",
          "data": {
            "text/plain": [
              "0.26598552904870054"
            ]
          },
          "metadata": {},
          "execution_count": 2
        }
      ]
    },
    {
      "cell_type": "markdown",
      "metadata": {
        "id": "Z9Oamn6Uc1mw"
      },
      "source": [
        "# Question number 2"
      ]
    },
    {
      "cell_type": "markdown",
      "metadata": {
        "id": "ltiDMfhxdEMh"
      },
      "source": [
        "2.The current age (in years) of 400 clerical employees at an insurance claims processing center is normally distributed with mean  = 38 and Standard deviation  =6. For each statement below, please specify True/False. If false, briefly explain why."
      ]
    },
    {
      "cell_type": "markdown",
      "metadata": {
        "id": "byGsgltxdMyR"
      },
      "source": [
        "A :\tMore employees at the processing center are older than 44 than between 38 and 44."
      ]
    },
    {
      "cell_type": "code",
      "metadata": {
        "colab": {
          "base_uri": "https://localhost:8080/"
        },
        "id": "jvRA_ThWc0qE",
        "outputId": "16e47b40-aed3-4d51-dd57-4bce15da734d"
      },
      "source": [
        "#Probability that Age less thane 38\n",
        "Age_to38=(stats.norm.cdf(38,loc=38,scale=6))\n",
        "Age_to38"
      ],
      "execution_count": null,
      "outputs": [
        {
          "output_type": "execute_result",
          "data": {
            "text/plain": [
              "0.5"
            ]
          },
          "metadata": {},
          "execution_count": 3
        }
      ]
    },
    {
      "cell_type": "code",
      "metadata": {
        "colab": {
          "base_uri": "https://localhost:8080/"
        },
        "id": "Z3pIMgEAZWw_",
        "outputId": "085fb686-db3f-4f0c-9a1e-148a04dbabaf"
      },
      "source": [
        "#Probability that Age less thane 44\n",
        "Age_to44=(stats.norm.cdf(44,loc=38,scale=6))\n",
        "Age_to44"
      ],
      "execution_count": null,
      "outputs": [
        {
          "output_type": "execute_result",
          "data": {
            "text/plain": [
              "0.8413447460685429"
            ]
          },
          "metadata": {},
          "execution_count": 4
        }
      ]
    },
    {
      "cell_type": "code",
      "metadata": {
        "colab": {
          "base_uri": "https://localhost:8080/"
        },
        "id": "RZdLhvybelYw",
        "outputId": "a78f0e8a-5a00-4a5a-8a61-a9df2842aede"
      },
      "source": [
        "#employee age more than 44 is \n",
        "Age_from44=1-(stats.norm.cdf(44,loc=38,scale=6))\n",
        "Age_from44"
      ],
      "execution_count": null,
      "outputs": [
        {
          "output_type": "execute_result",
          "data": {
            "text/plain": [
              "0.15865525393145707"
            ]
          },
          "metadata": {},
          "execution_count": 5
        }
      ]
    },
    {
      "cell_type": "code",
      "metadata": {
        "colab": {
          "base_uri": "https://localhost:8080/"
        },
        "id": "6z4V8e_GezuD",
        "outputId": "6eba89b5-ca2f-4095-ee83-0431d9913beb"
      },
      "source": [
        "#Calculation part\n",
        "age_between_38to44=Age_to44-Age_to38\n",
        "age_between_38to44"
      ],
      "execution_count": null,
      "outputs": [
        {
          "output_type": "execute_result",
          "data": {
            "text/plain": [
              "0.3413447460685429"
            ]
          },
          "metadata": {},
          "execution_count": 6
        }
      ]
    },
    {
      "cell_type": "markdown",
      "metadata": {
        "id": "LsvPodlpiAF4"
      },
      "source": [
        "B.\tA training program for employees under the age of 30 at the center would be expected to attract about 36 employees."
      ]
    },
    {
      "cell_type": "code",
      "metadata": {
        "colab": {
          "base_uri": "https://localhost:8080/"
        },
        "id": "bGFIs7j8f4fM",
        "outputId": "a1cc3240-aad6-441d-e10d-19701b6db4c0"
      },
      "source": [
        "(stats.norm.cdf(36,loc=38,scale=6))"
      ],
      "execution_count": null,
      "outputs": [
        {
          "output_type": "execute_result",
          "data": {
            "text/plain": [
              "0.36944134018176367"
            ]
          },
          "metadata": {},
          "execution_count": 7
        }
      ]
    },
    {
      "cell_type": "markdown",
      "metadata": {
        "id": "rDF9-hQ8qfLH"
      },
      "source": [
        "# Question number 4\n",
        "\n"
      ]
    },
    {
      "cell_type": "markdown",
      "source": [
        "4.\tLet X ~ N(100, 202). Find two values, a and b, symmetric about the mean, such that the probability of the random variable taking a value between them is 0.99. "
      ],
      "metadata": {
        "id": "lucy7JWhOf6C"
      }
    },
    {
      "cell_type": "code",
      "metadata": {
        "id": "Gonkv48kifuX",
        "colab": {
          "base_uri": "https://localhost:8080/"
        },
        "outputId": "27fe9dfb-82b3-41ce-9db3-affafff902c7"
      },
      "source": [
        "stats.norm.ppf(0.995,loc=100,scale=20)\n"
      ],
      "execution_count": null,
      "outputs": [
        {
          "output_type": "execute_result",
          "data": {
            "text/plain": [
              "151.516586070978"
            ]
          },
          "metadata": {},
          "execution_count": 8
        }
      ]
    },
    {
      "cell_type": "code",
      "metadata": {
        "colab": {
          "base_uri": "https://localhost:8080/"
        },
        "id": "YNI5ZI5Fq1-6",
        "outputId": "4198a9ad-ef74-4796-ef96-bca8a0c275be"
      },
      "source": [
        "stats.norm.ppf(0.005,loc=100,scale=20)"
      ],
      "execution_count": null,
      "outputs": [
        {
          "output_type": "execute_result",
          "data": {
            "text/plain": [
              "48.483413929021985"
            ]
          },
          "metadata": {},
          "execution_count": 9
        }
      ]
    },
    {
      "cell_type": "markdown",
      "metadata": {
        "id": "ym9DUX4SaFRv"
      },
      "source": [
        "# Question number 5"
      ]
    },
    {
      "cell_type": "markdown",
      "source": [
        "5.\tConsider a company that has two different divisions. The annual profits from the two divisions are independent and have distributions Profit1 ~ N(5, 32) and Profit2 ~ N(7, 42) respectively. Both the profits are in $ Million. Answer the following questions about the total profit of the company in Rupees. Assume that $1 = Rs. 45"
      ],
      "metadata": {
        "id": "WU0C4NQPOm5s"
      }
    },
    {
      "cell_type": "code",
      "metadata": {
        "id": "47MkZ3hMwTfD",
        "colab": {
          "base_uri": "https://localhost:8080/"
        },
        "outputId": "ba1b2a32-bcb0-46df-e716-7a187e7d94d7"
      },
      "source": [
        "#A.\tSpecify a Rupee range (centered on the mean) such that it contains 95% probability for the annual profit of the company.\n",
        "uppertail=stats.norm.ppf(0.975, loc=5,scale=3)\n",
        "uppertail"
      ],
      "execution_count": null,
      "outputs": [
        {
          "output_type": "execute_result",
          "data": {
            "text/plain": [
              "10.879891953620163"
            ]
          },
          "metadata": {},
          "execution_count": 10
        }
      ]
    },
    {
      "cell_type": "code",
      "metadata": {
        "colab": {
          "base_uri": "https://localhost:8080/"
        },
        "id": "qjMl1OXhajc2",
        "outputId": "bb6a867a-131b-4ff7-95d2-d95dbdd18d21"
      },
      "source": [
        "lowertail=stats.norm.ppf(0.025, loc=5, scale=3)\n",
        "lowertail"
      ],
      "execution_count": null,
      "outputs": [
        {
          "output_type": "execute_result",
          "data": {
            "text/plain": [
              "-0.879891953620163"
            ]
          },
          "metadata": {},
          "execution_count": 11
        }
      ]
    },
    {
      "cell_type": "code",
      "metadata": {
        "colab": {
          "base_uri": "https://localhost:8080/"
        },
        "id": "m-YzFVJTapI1",
        "outputId": "fe635307-22ab-4a0a-998a-98a5d21026c1"
      },
      "source": [
        "#data Rupee range (centered on the mean) such that it contains 95% probability for the annual profit of the company.\n",
        "print(\"Rupee range (Centered on the mean with 95% probability) is:\",\"from \",lowertail*45,\" to \",uppertail*45)"
      ],
      "execution_count": null,
      "outputs": [
        {
          "output_type": "stream",
          "name": "stdout",
          "text": [
            "Rupee range (Centered on the mean with 95% probability) is: from  -39.59513791290733  to  489.5951379129073\n"
          ]
        }
      ]
    },
    {
      "cell_type": "code",
      "metadata": {
        "colab": {
          "base_uri": "https://localhost:8080/"
        },
        "id": "nO1f7NUsh7NB",
        "outputId": "2d0c1d31-673f-415d-e57e-e1e6b1ebd4ac"
      },
      "source": [
        "#B.\tSpecify the 5th percentile of profit (in Rupees) for the company\n",
        "fifthpercentile=stats.norm.cdf(0.05,loc=5,scale=3)\n",
        "fifthpercentile"
      ],
      "execution_count": null,
      "outputs": [
        {
          "output_type": "execute_result",
          "data": {
            "text/plain": [
              "0.049471468033648075"
            ]
          },
          "metadata": {},
          "execution_count": 13
        }
      ]
    },
    {
      "cell_type": "code",
      "metadata": {
        "colab": {
          "base_uri": "https://localhost:8080/"
        },
        "id": "Wwb4FTfrjtIh",
        "outputId": "3d303eea-25bd-403d-d060-960050d269e4"
      },
      "source": [
        "print(\"5th percentile of profit (in Rupees) for the company is :\", fifthpercentile*45)"
      ],
      "execution_count": null,
      "outputs": [
        {
          "output_type": "stream",
          "name": "stdout",
          "text": [
            "5th percentile of profit (in Rupees) for the company is : 2.2262160615141635\n"
          ]
        }
      ]
    },
    {
      "cell_type": "markdown",
      "metadata": {
        "id": "ccm08erJ3NbE"
      },
      "source": [
        "#Set 4 Question number 3 "
      ]
    },
    {
      "cell_type": "markdown",
      "metadata": {
        "id": "a1g4HDVd3gKK"
      },
      "source": [
        "3.\tAuditors at a small community bank randomly sample 100 withdrawal transactions made during the week at an ATM machine located near the bank’s main branch. Over the past 2 years, the average withdrawal amount has been  50dollar with a standard deviation of  40 dollar. Since audit investigations are typically expensive, the auditors decide to not initiate further investigations if the mean transaction amount of the sample is between 45 and 55 dollar. What is the probability that in any given week, there will be an investigation?\n",
        "\n",
        "\n",
        "For No investigation P(45<X<55)\n",
        "\n",
        "For Investigation 1-P(45<X<55)"
      ]
    },
    {
      "cell_type": "code",
      "metadata": {
        "id": "g1hc3TM7kM1D",
        "colab": {
          "base_uri": "https://localhost:8080/"
        },
        "outputId": "ee79a1f0-f0b9-4b54-d327-69830f0e0055"
      },
      "source": [
        "# find z-scores at x=45; z=(s_mean-P_mean)/(p_SD/sqrt(n))\n",
        "z=(45-50)/(40/100**0.5)\n",
        "z"
      ],
      "execution_count": null,
      "outputs": [
        {
          "output_type": "execute_result",
          "data": {
            "text/plain": [
              "-1.25"
            ]
          },
          "metadata": {},
          "execution_count": 20
        }
      ]
    },
    {
      "cell_type": "code",
      "metadata": {
        "colab": {
          "base_uri": "https://localhost:8080/"
        },
        "id": "P7VoH7Bn32dK",
        "outputId": "d372e95e-a143-4261-f2c5-9123b86f6b35"
      },
      "source": [
        "# find z-scores at x=55; z=(s_mean-P_mean)/(p_SD/sqrt(n))\n",
        "z=(55-50)/(40/100**0.5)\n",
        "z"
      ],
      "execution_count": null,
      "outputs": [
        {
          "output_type": "execute_result",
          "data": {
            "text/plain": [
              "1.25"
            ]
          },
          "metadata": {},
          "execution_count": 21
        }
      ]
    },
    {
      "cell_type": "code",
      "metadata": {
        "colab": {
          "base_uri": "https://localhost:8080/"
        },
        "id": "laGne1Gx4ArP",
        "outputId": "b0e234a7-d918-40cd-c677-09cc92f6dd0c"
      },
      "source": [
        "answer=0.5497382248301129-0.4502617751698871\n",
        "answer"
      ],
      "execution_count": null,
      "outputs": [
        {
          "output_type": "execute_result",
          "data": {
            "text/plain": [
              "0.09947644966022584"
            ]
          },
          "metadata": {},
          "execution_count": 17
        }
      ]
    },
    {
      "cell_type": "code",
      "source": [
        "# For No investigation P(45<X<55) using z_scores = P(X<50)-P(X<45)\n",
        "stats.norm.cdf(1.25)-stats.norm.cdf(-1.25)"
      ],
      "metadata": {
        "colab": {
          "base_uri": "https://localhost:8080/"
        },
        "id": "miVMlsAaGJnR",
        "outputId": "1d867755-3801-4235-ed9f-105d3cddcd68"
      },
      "execution_count": null,
      "outputs": [
        {
          "output_type": "execute_result",
          "data": {
            "text/plain": [
              "0.7887004526662893"
            ]
          },
          "metadata": {},
          "execution_count": 22
        }
      ]
    },
    {
      "cell_type": "code",
      "source": [
        "stats.norm.interval(0.7887,loc=50,scale=40/(100**0.5))"
      ],
      "metadata": {
        "colab": {
          "base_uri": "https://localhost:8080/"
        },
        "id": "kFKiJz_wTes2",
        "outputId": "59aa40bc-036d-40fe-c95e-2e973c404f07"
      },
      "execution_count": null,
      "outputs": [
        {
          "output_type": "execute_result",
          "data": {
            "text/plain": [
              "(45.00000495667348, 54.99999504332652)"
            ]
          },
          "metadata": {},
          "execution_count": 23
        }
      ]
    },
    {
      "cell_type": "markdown",
      "metadata": {
        "id": "NoamMOBLVGcB"
      },
      "source": [
        ""
      ]
    },
    {
      "cell_type": "code",
      "metadata": {
        "id": "LRoG5d226C0Q",
        "colab": {
          "base_uri": "https://localhost:8080/"
        },
        "outputId": "cfc69fb3-c9b2-4546-b71f-64c05eb4d6d0"
      },
      "source": [
        "# For Investigation 1-P(45<X<55)\n",
        "1-0.7887"
      ],
      "execution_count": null,
      "outputs": [
        {
          "output_type": "execute_result",
          "data": {
            "text/plain": [
              "0.21130000000000004"
            ]
          },
          "metadata": {},
          "execution_count": 24
        }
      ]
    },
    {
      "cell_type": "code",
      "metadata": {
        "id": "l7183J8BVSJv"
      },
      "source": [
        ""
      ],
      "execution_count": null,
      "outputs": []
    }
  ]
}